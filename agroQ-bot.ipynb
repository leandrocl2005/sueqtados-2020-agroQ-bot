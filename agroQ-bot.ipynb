{
 "cells": [
  {
   "cell_type": "code",
   "execution_count": 1,
   "metadata": {},
   "outputs": [],
   "source": [
    "# !pip install PyTelegramBotAPI"
   ]
  },
  {
   "cell_type": "markdown",
   "metadata": {},
   "source": [
    "## Boas vindas do AgroQ-Bot"
   ]
  },
  {
   "cell_type": "code",
   "execution_count": 4,
   "metadata": {},
   "outputs": [],
   "source": [
    "import telebot\n",
    "import my_infos\n",
    "\n",
    "token = my_infos.token\n",
    "bot = telebot.TeleBot(token)\n",
    "\n",
    "@bot.message_handler(commands=['start'])\n",
    "def diga_oi(message):\n",
    "    chat_id = message.chat.id\n",
    "    bot.send_message(chat_id, \"Olá, eu sou o AgroQ!\")\n",
    "\n",
    "bot.polling()"
   ]
  },
  {
   "cell_type": "markdown",
   "metadata": {},
   "source": [
    "## AgroQ-Bot calcula IMC"
   ]
  },
  {
   "cell_type": "code",
   "execution_count": 2,
   "metadata": {},
   "outputs": [],
   "source": [
    "import telebot\n",
    "import my_infos\n",
    "\n",
    "token = my_infos.token\n",
    "bot = telebot.TeleBot(token)\n",
    "\n",
    "info = { 'peso': 64, 'altura': 1.65 }\n",
    "\n",
    "def imc(peso, altura):\n",
    "    altura = altura /100\n",
    "    resultado = peso / (altura * altura)\n",
    "    return round(resultado, 2)\n",
    "\n",
    "@bot.message_handler(commands=['start'])\n",
    "def diga_oi(message):\n",
    "    chat_id = message.chat.id\n",
    "    bot.send_message(chat_id, \"Olá, eu sou o AgroQ!\")\n",
    "\n",
    "@bot.message_handler(commands=['imc'])\n",
    "def pedir_peso(message):\n",
    "    chat_id = message.chat.id\n",
    "    bot.send_message(chat_id, \"Diga seu peso:\")\n",
    "    bot.register_next_step_handler(message, pedir_altura)\n",
    "    \n",
    "def pedir_altura(message):\n",
    "    chat_id = message.chat.id\n",
    "    info['peso'] = int(message.text)\n",
    "    bot.send_message(chat_id, \"Diga sua altura em cm:\")\n",
    "    bot.register_next_step_handler(message, retorna_imc)\n",
    "\n",
    "import time\n",
    "def retorna_imc(message):\n",
    "    chat_id = message.chat.id\n",
    "    info['altura'] = int(message.text)\n",
    "    resultado = imc(info['peso'], info['altura'])\n",
    "    bot.send_chat_action(message.chat.id, 'typing')\n",
    "    time.sleep(3)\n",
    "    bot.send_message(chat_id, \"Seu imc é de \" + str(resultado))\n",
    "    \n",
    "bot.polling()"
   ]
  }
 ],
 "metadata": {
  "kernelspec": {
   "display_name": "Python 3",
   "language": "python",
   "name": "python3"
  },
  "language_info": {
   "codemirror_mode": {
    "name": "ipython",
    "version": 3
   },
   "file_extension": ".py",
   "mimetype": "text/x-python",
   "name": "python",
   "nbconvert_exporter": "python",
   "pygments_lexer": "ipython3",
   "version": "3.7.6"
  }
 },
 "nbformat": 4,
 "nbformat_minor": 4
}
